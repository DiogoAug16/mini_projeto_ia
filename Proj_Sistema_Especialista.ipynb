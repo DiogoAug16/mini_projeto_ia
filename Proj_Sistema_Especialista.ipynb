{
 "cells": [
  {
   "cell_type": "markdown",
   "id": "594cfe3c",
   "metadata": {},
   "source": [
    "# Sistema especialista manutenção de hardware - Placa mãe"
   ]
  },
  {
   "cell_type": "markdown",
   "id": "6b6fb8af",
   "metadata": {},
   "source": [
    "## Instalação do Experta"
   ]
  },
  {
   "cell_type": "code",
   "execution_count": 25,
   "id": "18ccb709",
   "metadata": {},
   "outputs": [
    {
     "name": "stdout",
     "output_type": "stream",
     "text": [
      "Requirement already satisfied: experta in /Users/diogoaugusto/.pyenv/versions/3.9.18/envs/.env-3.9/lib/python3.9/site-packages (1.9.4)\n",
      "Requirement already satisfied: frozendict==1.2 in /Users/diogoaugusto/.pyenv/versions/3.9.18/envs/.env-3.9/lib/python3.9/site-packages (from experta) (1.2)\n",
      "Requirement already satisfied: schema==0.6.7 in /Users/diogoaugusto/.pyenv/versions/3.9.18/envs/.env-3.9/lib/python3.9/site-packages (from experta) (0.6.7)\n",
      "Note: you may need to restart the kernel to use updated packages.\n"
     ]
    }
   ],
   "source": [
    "# Instalação do experta caso n esteja instalado\n",
    "%pip install experta"
   ]
  },
  {
   "cell_type": "markdown",
   "id": "9edc044e",
   "metadata": {},
   "source": [
    "## 1 - Definindo os fatos"
   ]
  },
  {
   "cell_type": "code",
   "execution_count": 26,
   "id": "c3650649",
   "metadata": {},
   "outputs": [],
   "source": [
    "from experta import * # type: ignore\n",
    "\n",
    "class PlacaMae(Fact):\n",
    "    pass"
   ]
  },
  {
   "cell_type": "markdown",
   "id": "d8956d7c",
   "metadata": {},
   "source": [
    "## 2 - Sistema Especialista\n",
    "\n",
    "As regras foram construídas com base na documentação de fabricantes de BIOS/placas-mãe (AMI e Gigabyte).\n",
    "Durante o processo de inicialização **(POST – Power-On Self Test)**, a placa-mãe utiliza **códigos sonoros (bipes)** e **sinais visuais/físicos (LEDs, ventoinhas, reinícios em loop, cheiro de queimado)** para indicar falhas de hardware antes mesmo da exibição de mensagens na tela. \n",
    "\n",
    "---\n",
    "\n",
    "### 📌 Regras implementadas\n",
    "O sistema especialista contempla dois tipos de diagnósticos:\n",
    "\n",
    "- **Problemas sem bipes** → análise baseada em LEDs, ventoinhas, tela, energia e outros sinais físicos.\n",
    "- **Problemas com bipes** → análise direta de acordo com tabelas de fabricantes (AMI/Gigabyte).\n",
    "---\n",
    "\n",
    "### 📌 Justificativa de cada regra\n",
    "#### 🔊 Regras com bipes\n",
    "- **Se o computador emite 1 bipe → Erro de memória RAM**  \n",
    "  A BIOS emite um bipe curto para indicar falha nos módulos de memória principal.\n",
    "\n",
    "- **Se o computador emite 2 bipes → Erro de paridade da memória**  \n",
    "  Indica que a memória não passou no teste de verificação de paridade.\n",
    "\n",
    "- **Se o computador emite 3 bipes → Erro no endereço de 64 KB da memória básica**  \n",
    "  Aponta problema em um endereço inicial da memória, fundamental para a inicialização.\n",
    "\n",
    "- **Se o computador emite 4 bipes → Mau funcionamento do relógio em tempo real (RTC)**  \n",
    "  O RTC é responsável pelo acompanhamento do tempo e armazenamento de informações de sistema; sua falha impede a configuração correta.\n",
    "\n",
    "- **Se o computador emite 5 bipes → Erro na CPU**  \n",
    "  Indica falha no processador, impossibilitando a execução de instruções básicas.\n",
    "\n",
    "#### 🖥️ Regras sem bipes\n",
    "\n",
    "- **Se o computador reinicia em loop sem vídeo**  \n",
    "  Indica falha persistente de inicialização → BIOS corrompida, superaquecimento ou falha de energia.\n",
    "\n",
    "- **Se nada no computador liga e cheiro de queimado está presente**    \n",
    "  Indica falha grave → Curto na placa-mãe (capacitores ou chipset queimados).\n",
    "\n",
    "- **Se o computador liga, dá tela preta, ventoinhas não giram, mas LEDs acendem**  \n",
    "  Indica que há energia chegando, mas falha na inicialização → Possível problema na placa de vídeo ou cabo de vídeo.\n",
    "\n",
    "- **Se o computador liga, dá tela preta, ventoinhas giram e LEDs acendem**   \n",
    "  A energia circula, mas o sistema não inicializa → CPU ou memória RAM com defeito/mal encaixada.\n",
    "\n",
    "- **Se o computador liga, LEDs piscam, ventoinhas não giram e a está tela preta**  \n",
    "  Indica falha de inicialização de vídeo/BIOS → Problema na placa de vídeo ou na BIOS.\n",
    "\n",
    "Esse mapeamento foi implementado diretamente como regras (`@Rule`) no **motor de inferência**, tornando o sistema capaz de simular um diagnóstico automático.\n"
   ]
  },
  {
   "cell_type": "code",
   "execution_count": 27,
   "id": "23521622",
   "metadata": {},
   "outputs": [],
   "source": [
    "class DiagnosticoPlacaMae(KnowledgeEngine):\n",
    "    \"\"\"interpreta a quantidade de bipes ou o sintoma fisico e fornece o diagnóstico correspondente.\"\"\"\n",
    "    \n",
    "    #Possiveis problemas sem bipes\n",
    "    @Rule(PlacaMae(liga=True, tela_preta=True, bipes=0, ventoinhas=False, leds=True))\n",
    "    def problema_placa_video(self):\n",
    "        print(\"Possível diagnóstico: Problema na placa de vídeo ou cabo de vídeo.\")\n",
    "        \n",
    "    @Rule(PlacaMae(liga=True, bipes=0, leds=True, ventoinhas=False))\n",
    "    def leds_sem_ventoinha(self):\n",
    "        print(\"Possível diagnóstico: Problema na placa de vídeo ou falha de inicialização da BIOS.\")\n",
    "\n",
    "    @Rule(PlacaMae(liga=True, bipes=0, reinicia=True))\n",
    "    def reinicia_em_loop(self):\n",
    "        print(\"Possível diagnóstico: BIOS corrompida, superaquecimento ou falha de energia.\")\n",
    "\n",
    "    @Rule(PlacaMae(liga=True, tela_preta=True, bipes=0, ventoinhas=True))\n",
    "    def sem_video_com_ventoinha(self):\n",
    "        print(\"Possível diagnóstico: Problema na RAM ou CPU (mal encaixada ou defeituosa).\")\n",
    "\n",
    "    @Rule(PlacaMae(liga=False, bipes=0, cheiro_queimado=True))\n",
    "    def curto_placa_mae(self):\n",
    "        print(\"Possível diagnóstico: Curto na placa-mãe (capacitores ou chipset queimados).\")\n",
    "    \n",
    "    # Problemas com bipes\n",
    "    # cod de erros para placa mães Gigabyte e AMI\n",
    "    @Rule(PlacaMae(bipes=1))\n",
    "    def erro_memoria(self):\n",
    "        print(\"Diagnóstico: Memory Error. Erro de memória\")\n",
    "\n",
    "    @Rule(PlacaMae(bipes=2))\n",
    "    def erro_paridade_memoria(self):\n",
    "        print(\"Diagnóstico: Memory parity check error. Erro de checagem na paridade da memória\")\n",
    "\n",
    "    @Rule(PlacaMae(bipes=3))\n",
    "    def erro_endereco_memoria(self):\n",
    "        print(\"Diagnóstico: basic memory 64K address check error. Erro de checagem do endereço de 64k da memória básica\")\n",
    "\n",
    "    @Rule(PlacaMae(bipes=4))\n",
    "    def erro_relogio(self):\n",
    "        print(\"Diagnóstico: Real Time Clock malfunction. Mau funcionamento do relógio em tempo real\")\n",
    "\n",
    "    @Rule(PlacaMae(bipes=5))\n",
    "    def erro_cpu(self):\n",
    "        print(\"Diagnóstico: CPU error. Erro na CPU\")\n"
   ]
  },
  {
   "cell_type": "markdown",
   "id": "e130c14c",
   "metadata": {},
   "source": [
    "## 3 - Rodando o Motor de inferencia"
   ]
  },
  {
   "cell_type": "markdown",
   "id": "e61c1c57",
   "metadata": {},
   "source": [
    "### Exemplos de diagnósticos:"
   ]
  },
  {
   "cell_type": "code",
   "execution_count": 28,
   "id": "1a0c577e",
   "metadata": {},
   "outputs": [
    {
     "name": "stdout",
     "output_type": "stream",
     "text": [
      "Diagnóstico: CPU error. Erro na CPU\n",
      "Diagnóstico: Memory parity check error. Erro de checagem na paridade da memória\n",
      "Possível diagnóstico: Problema na placa de vídeo ou falha de inicialização da BIOS.\n",
      "Possível diagnóstico: Curto na placa-mãe (capacitores ou chipset queimados).\n"
     ]
    }
   ],
   "source": [
    "engine = DiagnosticoPlacaMae()\n",
    "engine.reset()\n",
    "\n",
    "#exemplos sem a placa mãe emitindo bipes\n",
    "engine.declare(PlacaMae(liga=False, bipes=0, cheiro_queimado=True))\n",
    "engine.declare(PlacaMae(liga=True, bipes=0, leds=True, ventoinhas=False))\n",
    "\n",
    "#exemplos com a placa mãe emitindo bipes\n",
    "engine.declare(PlacaMae(bipes=2))\n",
    "engine.declare(PlacaMae(bipes=5))\n",
    "\n",
    "engine.run()\n",
    "    \n",
    "  "
   ]
  },
  {
   "cell_type": "markdown",
   "id": "5dece5fc",
   "metadata": {},
   "source": [
    "### Diagnóstico interativo: "
   ]
  },
  {
   "cell_type": "code",
   "execution_count": 31,
   "id": "924c6bec",
   "metadata": {},
   "outputs": [
    {
     "name": "stdout",
     "output_type": "stream",
     "text": [
      "Possível diagnóstico: BIOS corrompida, superaquecimento ou falha de energia.\n",
      "Possível diagnóstico: Problema na RAM ou CPU (mal encaixada ou defeituosa).\n"
     ]
    }
   ],
   "source": [
    "def perguntar_booleano(pergunta):\n",
    "    while True:\n",
    "        resp = input(pergunta + \" (s/n): \").strip().lower()\n",
    "        if resp in [\"s\", \"n\"]:\n",
    "            return resp == \"s\"\n",
    "        print(\"Digite apenas 's' ou 'n'.\")\n",
    "\n",
    "dados = {}\n",
    "\n",
    "if perguntar_booleano(\"A placa-mãe está emitindo sons de bipes?\"):\n",
    "    while True:\n",
    "        try:\n",
    "            n_bipes = int(input(\"Digite o número de bipes (1 a 5): \"))\n",
    "            if 1 <= n_bipes <= 5:\n",
    "                dados[\"bipes\"] = n_bipes\n",
    "                break\n",
    "            else:\n",
    "                print(\"Número inválido, tente novamente.\")\n",
    "        except ValueError:\n",
    "            print(\"Digite um número válido.\")\n",
    "else:\n",
    "    dados[\"bipes\"] = 0\n",
    "    dados[\"liga\"] = perguntar_booleano(\"O computador liga?\")\n",
    "    dados[\"tela_preta\"] = perguntar_booleano(\"A tela permanece preta?\")\n",
    "    dados[\"ventoinhas\"] = perguntar_booleano(\"As ventoinhas giram?\")\n",
    "    dados[\"leds\"] = perguntar_booleano(\"Os LEDs acendem?\")\n",
    "    dados[\"reinicia\"] = perguntar_booleano(\"O PC reinicia em loop?\")\n",
    "    dados[\"cheiro_queimado\"] = perguntar_booleano(\"Você percebe cheiro de queimado?\")\n",
    "\n",
    "engine = DiagnosticoPlacaMae()\n",
    "engine.reset()\n",
    "engine.declare(PlacaMae(**dados))\n",
    "engine.run()\n",
    "\n"
   ]
  }
 ],
 "metadata": {
  "kernelspec": {
   "display_name": ".env-3.9",
   "language": "python",
   "name": "python3"
  },
  "language_info": {
   "codemirror_mode": {
    "name": "ipython",
    "version": 3
   },
   "file_extension": ".py",
   "mimetype": "text/x-python",
   "name": "python",
   "nbconvert_exporter": "python",
   "pygments_lexer": "ipython3",
   "version": "3.9.18"
  }
 },
 "nbformat": 4,
 "nbformat_minor": 5
}
