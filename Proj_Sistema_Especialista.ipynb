{
 "cells": [
  {
   "cell_type": "markdown",
   "id": "594cfe3c",
   "metadata": {},
   "source": [
    "# Sistema especialista manutenção de hardware - Placa mãe"
   ]
  },
  {
   "cell_type": "markdown",
   "id": "9edc044e",
   "metadata": {},
   "source": [
    "## 1 - Definindo os fatos"
   ]
  },
  {
   "cell_type": "code",
   "execution_count": null,
   "id": "c3650649",
   "metadata": {},
   "outputs": [],
   "source": [
    "from experta import * # type: ignore\n",
    "\n",
    "class PlacaMae(Fact):\n",
    "    \"\"\"Fato que representa a quantidade de bipes emitidos pela placa-mãe no POST (Power-On Self Test).\"\"\"\n",
    "    pass"
   ]
  },
  {
   "cell_type": "markdown",
   "id": "d8956d7c",
   "metadata": {},
   "source": [
    "## 2 - Sistema Especialista\n",
    "\n",
    "As regras foram construídas com base na documentação de fabricantes de BIOS/placas-mãe (AMI e Gigabyte).  \n",
    "Durante o processo de inicialização (**POST – Power-On Self Test**), a placa-mãe utiliza **códigos sonoros (bipes)** para indicar falhas de hardware antes mesmo da exibição de mensagens na tela.  \n",
    "\n",
    "---\n",
    "\n",
    "### 🔹 Regras\n",
    "Cada regra associa um valor de bipes a um diagnóstico específico, de acordo com tabelas de fabricantes.  \n",
    "\n",
    "---\n",
    "\n",
    "### 🔹 Justificativa de cada regra\n",
    "\n",
    "- **1 bipe → Erro de memória RAM**  \n",
    "  A BIOS emite um bipe curto para indicar falha nos módulos de memória principal.\n",
    "\n",
    "- **2 bipes → Erro de paridade da memória**  \n",
    "  Indica que a memória não passou no teste de verificação de paridade.\n",
    "\n",
    "- **3 bipes → Erro no endereço de 64 KB da memória básica**  \n",
    "  Aponta problema em um endereço inicial da memória, fundamental para a inicialização.\n",
    "\n",
    "- **4 bipes → Mau funcionamento do relógio em tempo real (RTC)**  \n",
    "  O RTC é responsável pelo acompanhamento do tempo e armazenamento de informações de sistema; sua falha impede a configuração correta.\n",
    "\n",
    "- **5 bipes → Erro na CPU**  \n",
    "  Indica falha no processador, impossibilitando a execução de instruções básicas.\n",
    "\n",
    "- **6 bipes → Erro no teclado**  \n",
    "  O POST não conseguiu reconhecer ou inicializar o controlador do teclado.\n",
    "\n",
    "- **7 bipes → Erro de interrupção da CPU**  \n",
    "  Indica falhas no funcionamento interno do processador, especialmente em rotinas de interrupção.\n",
    "\n",
    "- **8 bipes → Erro na placa de vídeo (GPU)**  \n",
    "  A BIOS não conseguiu inicializar a controladora de vídeo, impedindo a exibição no monitor.\n",
    "\n",
    "- **9 bipes → Novo erro de memória**  \n",
    "  Outra forma de indicar falhas mais específicas na memória do sistema.\n",
    "\n",
    "- **10 bipes → Erro na CMOS**  \n",
    "  Indica falha na memória CMOS, que armazena as configurações básicas do hardware (setup da BIOS).\n",
    "\n",
    "- **11 bipes → Mau funcionamento da memória cache da CPU**  \n",
    "  Aponta defeito na memória cache do processador, essencial para desempenho e funcionamento correto.\n",
    "\n",
    "Esse mapeamento foi implementado diretamente como regras (`@Rule`) no **motor de inferência**, tornando o sistema capaz de simular um diagnóstico automático.\n"
   ]
  },
  {
   "cell_type": "code",
   "execution_count": null,
   "id": "23521622",
   "metadata": {},
   "outputs": [],
   "source": [
    "# cod de erros para placa mães Gigabyte e AMI\n",
    "class DiagnosticoPlacaMae(KnowledgeEngine):\n",
    "    \"\"\"interpreta a quantidade de bipes e fornece o diagnóstico correspondente.\"\"\"\n",
    "    \n",
    "    @Rule(PlacaMae(bipes=1))\n",
    "    def erro_memoria(self):\n",
    "        print(\"Diagnóstico: Memory Error. Erro de memória\")\n",
    "\n",
    "    @Rule(PlacaMae(bipes=2))\n",
    "    def erro_paridade_memoria(self):\n",
    "        print(\"Diagnóstico: Memory parity check error. Erro de checagem na paridade da memória\")\n",
    "\n",
    "    @Rule(PlacaMae(bipes=3))\n",
    "    def erro_endereco_memoria(self):\n",
    "        print(\"Diagnóstico: basic memory 64K address check error. Erro de checagem do endereço de 64k da memória básica\")\n",
    "\n",
    "    @Rule(PlacaMae(bipes=4))\n",
    "    def erro_relogio(self):\n",
    "        print(\"Diagnóstico: Real Time Clock malfunction. Mau funcionamento do relógio em tempo real\")\n",
    "\n",
    "    @Rule(PlacaMae(bipes=5))\n",
    "    def erro_cpu(self):\n",
    "        print(\"Diagnóstico: CPU error. Erro na CPU\")\n",
    "\n",
    "    @Rule(PlacaMae(bipes=6))\n",
    "    def erro_teclado(self):\n",
    "        print(\"Diagnóstico: Keyboard error. Erro no teclado\")\n",
    "\n",
    "    @Rule(PlacaMae(bipes=7))\n",
    "    def erro_interrupcao_cpu(self):\n",
    "        print(\"Diagnóstico: CPU interruption error. Erro de interrupção da CPU\")\n",
    "\n",
    "    @Rule(PlacaMae(bipes=8))\n",
    "    def erro_placa_video(self):\n",
    "        print(\"Diagnóstico: Graphic card error. Erro na placa de vídeo\")\n",
    "\n",
    "    @Rule(PlacaMae(bipes=9))\n",
    "    def erro_memoria_novamente(self):\n",
    "        print(\"Diagnóstico: Memory error. Erro de memória\")\n",
    "\n",
    "    @Rule(PlacaMae(bipes=10))\n",
    "    def erro_cmos(self):\n",
    "        print(\"Diagnóstico: CMOS error. Erro na CMOS\")\n",
    "\n",
    "    @Rule(PlacaMae(bipes=11))\n",
    "    def erro_cache_cpu(self):\n",
    "        print(\"Diagnóstico: CPU cache memory malfunction. Mau funcionamento na memória cache da CPU\")"
   ]
  },
  {
   "cell_type": "markdown",
   "id": "e130c14c",
   "metadata": {},
   "source": [
    "3 - Motor de inferencia"
   ]
  },
  {
   "cell_type": "code",
   "execution_count": null,
   "id": "924c6bec",
   "metadata": {},
   "outputs": [],
   "source": [
    "engine = DiagnosticoPlacaMae()\n",
    "engine.reset()\n",
    "\n",
    "n_bipes = 0\n",
    "while True:\n",
    "    try:\n",
    "        n_bipes = int(input(\"Digite o número de bipes da placa mãe: \"))\n",
    "        if n_bipes < 1 or n_bipes > 11:\n",
    "            print(\"Os numeros de bipes válidos são entre 1 e 11. Tente novamente.\")\n",
    "            continue\n",
    "        else:\n",
    "            break\n",
    "    except ValueError:\n",
    "        print(\"Por favor, insira um número válido.\")\n",
    "        continue\n",
    "\n",
    "engine.declare(PlacaMae(bipes=n_bipes))\n",
    "engine.run()"
   ]
  }
 ],
 "metadata": {
  "kernelspec": {
   "display_name": ".env-3.9",
   "language": "python",
   "name": "python3"
  },
  "language_info": {
   "codemirror_mode": {
    "name": "ipython",
    "version": 3
   },
   "file_extension": ".py",
   "mimetype": "text/x-python",
   "name": "python",
   "nbconvert_exporter": "python",
   "pygments_lexer": "ipython3",
   "version": "3.9.18"
  }
 },
 "nbformat": 4,
 "nbformat_minor": 5
}
